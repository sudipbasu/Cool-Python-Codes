{
  "nbformat": 4,
  "nbformat_minor": 0,
  "metadata": {
    "colab": {
      "provenance": [],
      "authorship_tag": "ABX9TyPp3grMfIuaxSSEMzjKqvAA",
      "include_colab_link": true
    },
    "kernelspec": {
      "name": "python3",
      "display_name": "Python 3"
    },
    "language_info": {
      "name": "python"
    }
  },
  "cells": [
    {
      "cell_type": "markdown",
      "metadata": {
        "id": "view-in-github",
        "colab_type": "text"
      },
      "source": [
        "<a href=\"https://colab.research.google.com/github/sudipbasu/Cool-Python-Codes/blob/main/Text_to_Speech.ipynb\" target=\"_parent\"><img src=\"https://colab.research.google.com/assets/colab-badge.svg\" alt=\"Open In Colab\"/></a>"
      ]
    },
    {
      "cell_type": "code",
      "execution_count": 1,
      "metadata": {
        "colab": {
          "base_uri": "https://localhost:8080/"
        },
        "id": "obZJid0qogNU",
        "outputId": "bc4eadd7-a9dd-441d-9782-de7f427d1a10"
      },
      "outputs": [
        {
          "output_type": "stream",
          "name": "stdout",
          "text": [
            "Collecting gtts\n",
            "  Downloading gTTS-2.5.4-py3-none-any.whl.metadata (4.1 kB)\n",
            "Requirement already satisfied: requests<3,>=2.27 in /usr/local/lib/python3.10/dist-packages (from gtts) (2.32.3)\n",
            "Requirement already satisfied: click<8.2,>=7.1 in /usr/local/lib/python3.10/dist-packages (from gtts) (8.1.7)\n",
            "Requirement already satisfied: charset-normalizer<4,>=2 in /usr/local/lib/python3.10/dist-packages (from requests<3,>=2.27->gtts) (3.4.0)\n",
            "Requirement already satisfied: idna<4,>=2.5 in /usr/local/lib/python3.10/dist-packages (from requests<3,>=2.27->gtts) (3.10)\n",
            "Requirement already satisfied: urllib3<3,>=1.21.1 in /usr/local/lib/python3.10/dist-packages (from requests<3,>=2.27->gtts) (2.2.3)\n",
            "Requirement already satisfied: certifi>=2017.4.17 in /usr/local/lib/python3.10/dist-packages (from requests<3,>=2.27->gtts) (2024.12.14)\n",
            "Downloading gTTS-2.5.4-py3-none-any.whl (29 kB)\n",
            "Installing collected packages: gtts\n",
            "Successfully installed gtts-2.5.4\n"
          ]
        }
      ],
      "source": [
        "!pip install gtts"
      ]
    },
    {
      "cell_type": "code",
      "source": [
        "from gtts import gTTS\n",
        "from IPython.display import Audio\n",
        "\n",
        "# Get user input\n",
        "text = input(\"Enter the text to convert to speech: \")\n",
        "\n",
        "# Convert the text to speech\n",
        "tts = gTTS(text)\n",
        "\n",
        "# Save the audio file\n",
        "audio_file = \"output.mp3\"\n",
        "tts.save(audio_file)\n",
        "\n",
        "# Play the audio file in Colab\n",
        "Audio(audio_file, autoplay=True)"
      ],
      "metadata": {
        "colab": {
          "base_uri": "https://localhost:8080/",
          "height": 93
        },
        "id": "U6Tl059apSRu",
        "outputId": "4bb85cb6-f88b-48c2-c991-dcfbc12bf178"
      },
      "execution_count": 5,
      "outputs": [
        {
          "name": "stdout",
          "output_type": "stream",
          "text": [
            "Enter the text to convert to speech: Programming is fun\n"
          ]
        },
        {
          "output_type": "execute_result",
          "data": {
            "text/plain": [
              "<IPython.lib.display.Audio object>"
            ],
            "text/html": [
              "\n",
              "                <audio  controls=\"controls\" autoplay=\"autoplay\">\n",
              "                    <source src=\"data:audio/mpeg;base64,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\" type=\"audio/mpeg\" />\n",
              "                    Your browser does not support the audio element.\n",
              "                </audio>\n",
              "              "
            ]
          },
          "metadata": {},
          "execution_count": 5
        }
      ]
    }
  ]
}
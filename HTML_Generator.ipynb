{
  "nbformat": 4,
  "nbformat_minor": 0,
  "metadata": {
    "colab": {
      "provenance": [],
      "authorship_tag": "ABX9TyMDaNQTDDWVq+ByN1uahVMw",
      "include_colab_link": true
    },
    "kernelspec": {
      "name": "python3",
      "display_name": "Python 3"
    },
    "language_info": {
      "name": "python"
    }
  },
  "cells": [
    {
      "cell_type": "markdown",
      "metadata": {
        "id": "view-in-github",
        "colab_type": "text"
      },
      "source": [
        "<a href=\"https://colab.research.google.com/github/sudipbasu/Cool-Python-Codes/blob/main/HTML_Generator.ipynb\" target=\"_parent\"><img src=\"https://colab.research.google.com/assets/colab-badge.svg\" alt=\"Open In Colab\"/></a>"
      ]
    },
    {
      "cell_type": "code",
      "execution_count": 1,
      "metadata": {
        "colab": {
          "base_uri": "https://localhost:8080/"
        },
        "id": "0QpvQ7B-p-nR",
        "outputId": "e05d874a-a713-4f27-b14f-c031b9f248f9"
      },
      "outputs": [
        {
          "output_type": "stream",
          "name": "stdout",
          "text": [
            "HTML Code Generator\n",
            "1. Add a heading\n",
            "2. Add a paragraph\n",
            "3. Add an ordered list\n",
            "4. Add an unordered list\n",
            "5. Finish\n",
            "\n",
            "Choose an option (1-5): 1\n",
            "Enter heading level (1-6): 6\n",
            "Enter heading text: Hello World\n",
            "\n",
            "Choose an option (1-5): 3\n",
            "Enter list item (or type 'done' to finish): Stack\n",
            "Enter list item (or type 'done' to finish): Queue\n",
            "Enter list item (or type 'done' to finish): Linked List\n",
            "Enter list item (or type 'done' to finish): Array\n",
            "Enter list item (or type 'done' to finish): done\n",
            "\n",
            "Choose an option (1-5): 5\n",
            "\n",
            "HTML code has been generated and saved to 'generated.html'.\n"
          ]
        }
      ],
      "source": [
        "def generate_html():\n",
        "    html_content = \"<!DOCTYPE html>\\n<html>\\n<head>\\n<title>Generated HTML</title>\\n</head>\\n<body>\\n\"\n",
        "\n",
        "    print(\"HTML Code Generator\")\n",
        "    print(\"1. Add a heading\")\n",
        "    print(\"2. Add a paragraph\")\n",
        "    print(\"3. Add an ordered list\")\n",
        "    print(\"4. Add an unordered list\")\n",
        "    print(\"5. Finish\")\n",
        "\n",
        "    while True:\n",
        "        choice = input(\"\\nChoose an option (1-5): \")\n",
        "        if choice == \"1\":\n",
        "            level = input(\"Enter heading level (1-6): \")\n",
        "            text = input(\"Enter heading text: \")\n",
        "            html_content += f\"<h{level}>{text}</h{level}>\\n\"\n",
        "        elif choice == \"2\":\n",
        "            text = input(\"Enter paragraph text: \")\n",
        "            html_content += f\"<p>{text}</p>\\n\"\n",
        "        elif choice == \"3\":\n",
        "            html_content += \"<ol>\\n\"\n",
        "            while True:\n",
        "                item = input(\"Enter list item (or type 'done' to finish): \")\n",
        "                if item.lower() == \"done\":\n",
        "                    break\n",
        "                html_content += f\"  <li>{item}</li>\\n\"\n",
        "            html_content += \"</ol>\\n\"\n",
        "        elif choice == \"4\":\n",
        "            html_content += \"<ul>\\n\"\n",
        "            while True:\n",
        "                item = input(\"Enter list item (or type 'done' to finish): \")\n",
        "                if item.lower() == \"done\":\n",
        "                    break\n",
        "                html_content += f\"  <li>{item}</li>\\n\"\n",
        "            html_content += \"</ul>\\n\"\n",
        "        elif choice == \"5\":\n",
        "            break\n",
        "        else:\n",
        "            print(\"Invalid choice. Please try again.\")\n",
        "\n",
        "    html_content += \"</body>\\n</html>\"\n",
        "\n",
        "    with open(\"generated.html\", \"w\") as file:\n",
        "        file.write(html_content)\n",
        "\n",
        "    print(\"\\nHTML code has been generated and saved to 'generated.html'.\")\n",
        "\n",
        "# Run the HTML generator\n",
        "generate_html()\n"
      ]
    }
  ]
}